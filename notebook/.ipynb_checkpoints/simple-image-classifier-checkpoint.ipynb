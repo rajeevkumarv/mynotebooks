{
 "cells": [
  {
   "cell_type": "code",
   "execution_count": 1,
   "metadata": {},
   "outputs": [],
   "source": [
    "import cv2\n",
    "import numpy as np\n",
    "import os"
   ]
  },
  {
   "cell_type": "code",
   "execution_count": 4,
   "metadata": {},
   "outputs": [
    {
     "name": "stdout",
     "output_type": "stream",
     "text": [
      "processing  Dukes\n",
      "processing  GarudaFood\n",
      "processing  Kinder\n",
      "processing  Lotte\n",
      "processing  Mangharam\n",
      "processing  Meiji\n",
      "processing  Nestle\n",
      "processing  Parle\n",
      "processing  Pillsburry\n",
      "processing  Snickers\n",
      "processing  Sunfeast\n"
     ]
    }
   ],
   "source": [
    "image_data = '/home/rajeevv/data/720x405_annotations_data/crops'\n",
    "image_obj_resized_to_50x50 = {}\n",
    "for category in os.listdir(image_data):\n",
    "    print ('processing ',category)\n",
    "    for image in os.listdir(image_data+'/'+category):\n",
    "        image_file = image_data+\"/\"+category+\"/\"+image\n",
    "        img = cv2.imread(image_file)\n",
    "        resized_image = cv2.resize(img,(50,50))\n",
    "        image_obj_resized_to_50x50[image_file] = resized_image.reshape(1,7500)"
   ]
  },
  {
   "cell_type": "code",
   "execution_count": 5,
   "metadata": {},
   "outputs": [
    {
     "data": {
      "text/plain": [
       "None"
      ]
     },
     "metadata": {},
     "output_type": "display_data"
    }
   ],
   "source": [
    "look_for = '/home/rajeevv/data/720x405_annotations_data/crops/Dukes/1079_2163.jpg'\n",
    "look_for_img = cv2.imread(look_for)\n",
    "display(look_for_img)"
   ]
  }
 ],
 "metadata": {
  "kernelspec": {
   "display_name": "Python 3",
   "language": "python",
   "name": "python3"
  },
  "language_info": {
   "codemirror_mode": {
    "name": "ipython",
    "version": 3
   },
   "file_extension": ".py",
   "mimetype": "text/x-python",
   "name": "python",
   "nbconvert_exporter": "python",
   "pygments_lexer": "ipython3",
   "version": "3.5.3"
  }
 },
 "nbformat": 4,
 "nbformat_minor": 2
}
